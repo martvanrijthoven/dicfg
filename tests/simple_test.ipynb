{
 "cells": [
  {
   "cell_type": "code",
   "execution_count": 1,
   "metadata": {},
   "outputs": [],
   "source": [
    "import sys\n",
    "import os\n",
    "from dataclasses import dataclass\n",
    "from pathlib import Path\n",
    "\n",
    "from dicfg import ConfigReader, build_config, __version__\n",
    "from dicfg.reader import ConfigNotFoundError\n",
    "\n",
    "\n",
    "class Item:\n",
    "    def __init__(self, a):\n",
    "        self.a = a\n"
   ]
  },
  {
   "cell_type": "code",
   "execution_count": 3,
   "metadata": {},
   "outputs": [
    {
     "name": "stdout",
     "output_type": "stream",
     "text": [
      "{'*template': {'*object': '__main__.Item', 'a': 10}, 'testconfig': [{'*object': '__main__.Item', 'a': 20}, {'*object': '__main__.Item', 'a': 30}]} <class 'dict'>\n",
      "[{'*object': '__main__.Item', 'a': 20}, {'*object': '__main__.Item', 'a': 30}]\n",
      "{'testjson': 'jsontest'} <class 'dict'>\n",
      "{'testjson': 'jsontest'}\n"
     ]
    }
   ],
   "source": [
    "config_reader = ConfigReader(main_config_path=\"./configs/config.yml\", context_keys=(\"testkey\",))\n",
    "config = config_reader.read()\n"
   ]
  },
  {
   "cell_type": "code",
   "execution_count": 4,
   "metadata": {},
   "outputs": [
    {
     "data": {
      "text/plain": [
       "{'default': {'items': [{'*object': '__main__.Item', 'a': 20},\n",
       "   {'*object': '__main__.Item', 'a': 30}],\n",
       "  'test': {'test2': [1, 2, 3]},\n",
       "  'test3': 'test',\n",
       "  'test4': 1,\n",
       "  'test5': 1.0,\n",
       "  'test6': True,\n",
       "  'test7': {'test8': {'hello': 'None'}},\n",
       "  'jsonconfig': {'testjson': 'jsontest'},\n",
       "  'deep_replace': {'a': 1, 'b': 2}},\n",
       " 'testkey': {'items': [{'*object': '__main__.Item', 'a': 20},\n",
       "   {'*object': '__main__.Item', 'a': 30}],\n",
       "  'test': {'test2': [1, 2, 3]},\n",
       "  'test3': 'test',\n",
       "  'test4': 1,\n",
       "  'test5': 1.0,\n",
       "  'test6': True,\n",
       "  'test7': {'test8': {'hello': 'None'}},\n",
       "  'jsonconfig': {'testjson': 'jsontest'},\n",
       "  'deep_replace': {'a': 1, 'b': 2}}}"
      ]
     },
     "execution_count": 4,
     "metadata": {},
     "output_type": "execute_result"
    }
   ],
   "source": [
    "config"
   ]
  },
  {
   "cell_type": "code",
   "execution_count": 6,
   "metadata": {},
   "outputs": [
    {
     "data": {
      "text/plain": [
       "30"
      ]
     },
     "execution_count": 6,
     "metadata": {},
     "output_type": "execute_result"
    }
   ],
   "source": [
    "build_config(config['default'])['items'][1].a"
   ]
  },
  {
   "cell_type": "code",
   "execution_count": 13,
   "metadata": {},
   "outputs": [
    {
     "data": {
      "text/plain": [
       "{'items': [{'*object': '__main__.Item', 'a': 20},\n",
       "  {'*object': '__main__.Item', 'a': 30}],\n",
       " 'test': {'test2': [1, 2, 3]},\n",
       " 'test3': 'test',\n",
       " 'test4': 1,\n",
       " 'test5': 1.0,\n",
       " 'test6': True,\n",
       " 'test7': {'test8': {'hello': 'None'}},\n",
       " 'jsonconfig': {'testjson': 'jsontest'},\n",
       " 'deep_replace': {'a': 1, 'b': 2}}"
      ]
     },
     "execution_count": 13,
     "metadata": {},
     "output_type": "execute_result"
    }
   ],
   "source": [
    "config['default']"
   ]
  },
  {
   "cell_type": "code",
   "execution_count": null,
   "metadata": {},
   "outputs": [],
   "source": []
  }
 ],
 "metadata": {
  "kernelspec": {
   "display_name": "dicfg",
   "language": "python",
   "name": "python3"
  },
  "language_info": {
   "codemirror_mode": {
    "name": "ipython",
    "version": 3
   },
   "file_extension": ".py",
   "mimetype": "text/x-python",
   "name": "python",
   "nbconvert_exporter": "python",
   "pygments_lexer": "ipython3",
   "version": "3.1.undefined"
  }
 },
 "nbformat": 4,
 "nbformat_minor": 2
}
