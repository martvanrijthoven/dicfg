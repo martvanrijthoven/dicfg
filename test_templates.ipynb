{
 "cells": [
  {
   "cell_type": "code",
   "execution_count": 1,
   "metadata": {},
   "outputs": [],
   "source": [
    "from dicfg.reader import ConfigReader\n",
    "\n",
    "\n",
    "from dicfg.addons.addons import Addon, TemplateAddon, UpdaterAddon, ValidatorAddon\n"
   ]
  },
  {
   "cell_type": "code",
   "execution_count": 2,
   "metadata": {},
   "outputs": [],
   "source": [
    "\n",
    "user_config = {\n",
    "    \"validators\": {\n",
    "        \"test_template\": \"\",\n",
    "    }\n",
    "}\n",
    "config_reader = ConfigReader(\n",
    "    name=\"validators\",\n",
    "    main_config_path=\"./configs/template_config.yml\",\n",
    ")\n",
    "config = config_reader.read()"
   ]
  },
  {
   "cell_type": "code",
   "execution_count": 3,
   "metadata": {},
   "outputs": [
    {
     "data": {
      "text/plain": [
       "{'test2': 'test',\n",
       " 'test3': None,\n",
       " 'testing': {'*object': 'io.StringIO',\n",
       "  'initial_value': 'Hello, World!',\n",
       "  'newline': '\\n'},\n",
       " 'test_template': {'*object': 'io.StringIO',\n",
       "  'initial_value': 'test',\n",
       "  'newline': 3}}"
      ]
     },
     "execution_count": 3,
     "metadata": {},
     "output_type": "execute_result"
    }
   ],
   "source": [
    "config"
   ]
  },
  {
   "cell_type": "code",
   "execution_count": 5,
   "metadata": {},
   "outputs": [],
   "source": [
    "from abc import ABC, abstractmethod\n",
    "from enum import Enum\n",
    "\n",
    "class CONFIG_ADDONS(Enum):\n",
    "    REPLACE = \"replace\"\n",
    "    VALIDATOR = \"validator\"\n",
    "    TEMPLATE = \"template\"\n",
    "\n",
    "\n",
    "\n",
    "class ConfigAddon(ABC):\n",
    "    @abstractmethod\n",
    "    def apply(self, data):\n",
    "        \"\"\"Apply the addon to the data\"\"\"\n",
    "\n",
    "\n",
    "def addon_selector(name: str):\n",
    "    return CONFIG_ADDONS(name)"
   ]
  },
  {
   "cell_type": "code",
   "execution_count": 13,
   "metadata": {},
   "outputs": [],
   "source": [
    "a = {\"a\": 1}"
   ]
  },
  {
   "cell_type": "code",
   "execution_count": 14,
   "metadata": {},
   "outputs": [
    {
     "data": {
      "text/plain": [
       "2"
      ]
     },
     "execution_count": 14,
     "metadata": {},
     "output_type": "execute_result"
    }
   ],
   "source": [
    "a.pop(\"b\", 2)"
   ]
  },
  {
   "cell_type": "code",
   "execution_count": 15,
   "metadata": {},
   "outputs": [
    {
     "data": {
      "text/plain": [
       "{'a': 1}"
      ]
     },
     "execution_count": 15,
     "metadata": {},
     "output_type": "execute_result"
    }
   ],
   "source": [
    "a"
   ]
  }
 ],
 "metadata": {
  "kernelspec": {
   "display_name": "dicfg",
   "language": "python",
   "name": "python3"
  },
  "language_info": {
   "codemirror_mode": {
    "name": "ipython",
    "version": 3
   },
   "file_extension": ".py",
   "mimetype": "text/x-python",
   "name": "python",
   "nbconvert_exporter": "python",
   "pygments_lexer": "ipython3",
   "version": "3.10.14"
  }
 },
 "nbformat": 4,
 "nbformat_minor": 2
}
