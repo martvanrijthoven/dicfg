{
 "cells": [
  {
   "cell_type": "markdown",
   "id": "2b706e5a-6cd0-4ce2-ae8e-db7a71f6f733",
   "metadata": {},
   "source": [
    "# Dependency Injection\n",
    "----"
   ]
  },
  {
   "cell_type": "code",
   "execution_count": 38,
   "id": "d9faea32-c00d-419e-a053-d818f23c7c08",
   "metadata": {},
   "outputs": [],
   "source": [
    "from pprint import pprint\n",
    "\n",
    "from dicfg.factory import ObjectFactory\n",
    "from dicfg.reader import ConfigReader\n",
    "\n",
    "\n",
    "class MyConfigReader(ConfigReader):\n",
    "    NAME = \"myconfig\""
   ]
  },
  {
   "cell_type": "markdown",
   "id": "8c1c6a05-5e84-4105-bcfd-d95178c3d3e4",
   "metadata": {},
   "source": [
    "### To use dependency injection in our config we first need to setup a project"
   ]
  },
  {
   "cell_type": "code",
   "execution_count": 39,
   "id": "9a6a6245-ca33-4ca8-981e-5c216aecfcfd",
   "metadata": {},
   "outputs": [],
   "source": [
    "class ProjectComponent:\n",
    "    def __init__(self, name):\n",
    "        self.name = name\n",
    "\n",
    "\n",
    "class MyProject:\n",
    "    def __init__(self, project_component: ProjectComponent):\n",
    "        self.project_component = project_component"
   ]
  },
  {
   "cell_type": "markdown",
   "id": "98b28b0f-9e1e-4b06-8e6d-c7a6dcb65176",
   "metadata": {},
   "source": [
    "### ObjectFactory can build objects with **object\\*** key"
   ]
  },
  {
   "cell_type": "code",
   "execution_count": 68,
   "id": "0ccb0996-03e5-4dd5-ae35-3ee242736ab1",
   "metadata": {},
   "outputs": [],
   "source": [
    "user_config = {\n",
    "    \"myconfig\": {\n",
    "        \"default\": {\n",
    "            \"project_component\": {\n",
    "                \"object*\": \"__main__.ProjectComponent\",\n",
    "                \"name\": \"my_project_component\",\n",
    "            },\n",
    "        },\n",
    "    },\n",
    "}"
   ]
  },
  {
   "cell_type": "code",
   "execution_count": 69,
   "id": "9fb9a62e-2aeb-47fa-b9d3-c2cb757bf8ae",
   "metadata": {},
   "outputs": [
    {
     "name": "stdout",
     "output_type": "stream",
     "text": [
      "{'default': {'config_int': 1,\n",
      "             'config_string': 'fire',\n",
      "             'config_list': [1, 2, 3],\n",
      "             'config_none': 'None',\n",
      "             'config_dict': {'sub_config': 'water'},\n",
      "             'project_component': {'object*': '__main__.ProjectComponent',\n",
      "                                   'name': 'my_project_component'}}}\n",
      "\n",
      " build objects: \n",
      "\n",
      "{'config_dict': {'sub_config': 'water'},\n",
      " 'config_int': 1,\n",
      " 'config_list': [1, 2, 3],\n",
      " 'config_none': None,\n",
      " 'config_string': 'fire',\n",
      " 'project_component': <__main__.ProjectComponent object at 0x7f84bcaab5e0>}\n"
     ]
    }
   ],
   "source": [
    "config = MyConfigReader.read(user_config)\n",
    "pprint(config, sort_dicts=False)\n",
    "objects = ObjectFactory.build(config[\"default\"])\n",
    "\n",
    "print(\"\\n build objects: \\n\")\n",
    "\n",
    "pprint(objects)"
   ]
  },
  {
   "cell_type": "markdown",
   "id": "1d188978-e0a8-4c50-89ec-f2246cdb1737",
   "metadata": {},
   "source": [
    "### Dependency Injection can be done by **object interpolation**"
   ]
  },
  {
   "cell_type": "code",
   "execution_count": 70,
   "id": "8c2b6343-e9a9-489d-a315-9170b74c710a",
   "metadata": {},
   "outputs": [],
   "source": [
    "user_config = {\n",
    "    \"myconfig\": {\n",
    "        \"default\": {\n",
    "            \"project_component\": {\n",
    "                \"object*\": \"__main__.ProjectComponent\",\n",
    "                \"name\": \"my_project_component\",\n",
    "            },\n",
    "            \"project\": {\n",
    "                \"object*\": \"__main__.MyProject\",\n",
    "                \n",
    "                # object interpolation\n",
    "                \"project_component\": \"${project_component}\",\n",
    "            },\n",
    "        },\n",
    "    },\n",
    "}"
   ]
  },
  {
   "cell_type": "code",
   "execution_count": 71,
   "id": "aafd232e-73c2-467a-9b82-d188c097b533",
   "metadata": {},
   "outputs": [
    {
     "name": "stdout",
     "output_type": "stream",
     "text": [
      "{'default': {'config_int': 1,\n",
      "             'config_string': 'fire',\n",
      "             'config_list': [1, 2, 3],\n",
      "             'config_none': 'None',\n",
      "             'config_dict': {'sub_config': 'water'},\n",
      "             'project_component': {'object*': '__main__.ProjectComponent',\n",
      "                                   'name': 'my_project_component'},\n",
      "             'project': {'object*': '__main__.MyProject',\n",
      "                         'project_component': '${project_component}'}}}\n",
      "\n",
      " build objects: \n",
      "\n",
      "{'config_int': 1,\n",
      " 'config_string': 'fire',\n",
      " 'config_list': [1, 2, 3],\n",
      " 'config_none': None,\n",
      " 'config_dict': {'sub_config': 'water'},\n",
      " 'project_component': <__main__.ProjectComponent object at 0x7f84bcab3dc0>,\n",
      " 'project': <__main__.MyProject object at 0x7f84bcaaf0a0>}\n",
      "\n",
      "project component name: my_project_component\n"
     ]
    }
   ],
   "source": [
    "config = MyConfigReader.read(user_config)\n",
    "pprint(config, sort_dicts=False)\n",
    "objects = ObjectFactory.build(config[\"default\"])\n",
    "print(\"\\n build objects: \\n\")\n",
    "pprint(objects, sort_dicts=False)\n",
    "print(\"\\nproject component name:\", objects[\"project\"].project_component.name)"
   ]
  },
  {
   "cell_type": "markdown",
   "id": "ab3431ed-c4a1-4f69-a93d-0f0a0b80bc42",
   "metadata": {},
   "source": [
    "### ObjectFactory interpolation of objects is done by **object reference**"
   ]
  },
  {
   "cell_type": "code",
   "execution_count": 72,
   "id": "e2e0899b-44df-4c18-9f72-f131217bd0c4",
   "metadata": {},
   "outputs": [],
   "source": [
    "user_config = {\n",
    "    \"myconfig\": {\n",
    "        \"default\": {\n",
    "            \"project_component\": {\n",
    "                \"object*\": \"__main__.ProjectComponent\",\n",
    "                \"name\": \"my_project_component\",\n",
    "            },\n",
    "            \"project\": {\n",
    "                \"object*\": \"__main__.MyProject\",\n",
    "                \n",
    "                # object interpolation by object reference\n",
    "                \"project_component\": \"${project_component}\",\n",
    "            },\n",
    "            \n",
    "            # object interpolation by object reference\n",
    "            \"my_interpolation_component\": \"${project_component}\",\n",
    "        },\n",
    "    },\n",
    "}"
   ]
  },
  {
   "cell_type": "code",
   "execution_count": 73,
   "id": "4cda7b75-fdb0-467e-be50-5c161fbd35dc",
   "metadata": {},
   "outputs": [
    {
     "name": "stdout",
     "output_type": "stream",
     "text": [
      "{'default': {'config_int': 1,\n",
      "             'config_string': 'fire',\n",
      "             'config_list': [1, 2, 3],\n",
      "             'config_none': 'None',\n",
      "             'config_dict': {'sub_config': 'water'},\n",
      "             'project_component': {'object*': '__main__.ProjectComponent',\n",
      "                                   'name': 'my_project_component'},\n",
      "             'project': {'object*': '__main__.MyProject',\n",
      "                         'project_component': '${project_component}'},\n",
      "             'my_interpolation_component': '${project_component}'}}\n",
      "\n",
      " build objects: \n",
      "\n",
      "{'config_int': 1,\n",
      " 'config_string': 'fire',\n",
      " 'config_list': [1, 2, 3],\n",
      " 'config_none': None,\n",
      " 'config_dict': {'sub_config': 'water'},\n",
      " 'project_component': <__main__.ProjectComponent object at 0x7f84bd1e81f0>,\n",
      " 'project': <__main__.MyProject object at 0x7f84bd1e83d0>,\n",
      " 'my_interpolation_component': <__main__.ProjectComponent object at 0x7f84bd1e81f0>}\n",
      "\n",
      "reference       project_component: <__main__.ProjectComponent object at 0x7f84bd1e81f0>\n",
      "reference interpolation_component: <__main__.ProjectComponent object at 0x7f84bd1e81f0>\n"
     ]
    }
   ],
   "source": [
    "config = MyConfigReader.read(user_config)\n",
    "pprint(config, sort_dicts=False)\n",
    "objects = ObjectFactory.build(config[\"default\"])\n",
    "print(\"\\n build objects: \\n\")\n",
    "pprint(objects, sort_dicts=False)\n",
    "\n",
    "print(\"\\nreference       project_component:\", objects[\"project_component\"])\n",
    "print(\"reference interpolation_component:\", objects[\"my_interpolation_component\"])"
   ]
  },
  {
   "cell_type": "markdown",
   "id": "57df8e6e-8c12-4d6c-8387-045ef6197aa8",
   "metadata": {},
   "source": [
    "### ObjectFactory allows for **object attribute interpolation**"
   ]
  },
  {
   "cell_type": "code",
   "execution_count": 76,
   "id": "530d57ca-cfdc-401e-97b4-3f54c5d8bd89",
   "metadata": {},
   "outputs": [],
   "source": [
    "user_config = {\n",
    "    \"myconfig\": {\n",
    "        \"default\": {\n",
    "            \"project_component\": {\n",
    "                \"object*\": \"__main__.ProjectComponent\",\n",
    "                \"name\": \"my_project_component\",\n",
    "            },\n",
    "            \"project\": {\n",
    "                \"object*\": \"__main__.MyProject\",\n",
    "                \"project_component\": \"${project_component}\",\n",
    "            },\n",
    "            \"my_attribute_component\": \"${project_component}\",\n",
    "            \n",
    "            # object attribute interpolation\n",
    "            \"my_attribute_component_name\": \"${project_component.name}\",  \n",
    "        },\n",
    "    },\n",
    "}"
   ]
  },
  {
   "cell_type": "code",
   "execution_count": 77,
   "id": "21ef62ab-873e-457e-8eeb-47ec50dda007",
   "metadata": {},
   "outputs": [
    {
     "name": "stdout",
     "output_type": "stream",
     "text": [
      "{'default': {'config_int': 1,\n",
      "             'config_string': 'fire',\n",
      "             'config_list': [1, 2, 3],\n",
      "             'config_none': 'None',\n",
      "             'config_dict': {'sub_config': 'water'},\n",
      "             'project_component': {'object*': '__main__.ProjectComponent',\n",
      "                                   'name': 'my_project_component'},\n",
      "             'project': {'object*': '__main__.MyProject',\n",
      "                         'project_component': '${project_component}'},\n",
      "             'my_attribute_component': '${project_component}',\n",
      "             'my_attribute_component_name': '${project_component.name}'}}\n",
      "\n",
      " build objects: \n",
      "\n",
      "{'config_int': 1,\n",
      " 'config_string': 'fire',\n",
      " 'config_list': [1, 2, 3],\n",
      " 'config_none': None,\n",
      " 'config_dict': {'sub_config': 'water'},\n",
      " 'project_component': <__main__.ProjectComponent object at 0x7f84bc6cd040>,\n",
      " 'project': <__main__.MyProject object at 0x7f84bc6cd1f0>,\n",
      " 'my_attribute_component': <__main__.ProjectComponent object at 0x7f84bc6cd040>,\n",
      " 'my_attribute_component_name': 'my_project_component'}\n",
      "\n",
      "my_attribute_component_name: my_project_component\n"
     ]
    }
   ],
   "source": [
    "config = MyConfigReader.read(user_config)\n",
    "pprint(config, sort_dicts=False)\n",
    "objects = ObjectFactory.build(config[\"default\"])\n",
    "print(\"\\n build objects: \\n\")\n",
    "pprint(objects, sort_dicts=False)\n",
    "\n",
    "print(\"\\nmy_attribute_component_name:\", objects[\"my_attribute_component_name\"])"
   ]
  },
  {
   "cell_type": "code",
   "execution_count": null,
   "id": "60992045-2cbb-450f-9987-dcbc7f4d02d8",
   "metadata": {},
   "outputs": [],
   "source": []
  },
  {
   "cell_type": "code",
   "execution_count": null,
   "id": "6707ffbb-de7c-4837-b7cb-63b42145f89b",
   "metadata": {},
   "outputs": [],
   "source": []
  }
 ],
 "metadata": {
  "kernelspec": {
   "display_name": "Python 3",
   "language": "python",
   "name": "python3"
  },
  "language_info": {
   "codemirror_mode": {
    "name": "ipython",
    "version": 3
   },
   "file_extension": ".py",
   "mimetype": "text/x-python",
   "name": "python",
   "nbconvert_exporter": "python",
   "pygments_lexer": "ipython3",
   "version": "3.8.5"
  }
 },
 "nbformat": 4,
 "nbformat_minor": 5
}
