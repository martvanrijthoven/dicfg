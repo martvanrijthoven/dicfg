{
 "cells": [
  {
   "cell_type": "markdown",
   "id": "9b2664f2",
   "metadata": {},
   "source": [
    "# Command Line Interface\n",
    "----"
   ]
  },
  {
   "cell_type": "code",
   "execution_count": 1,
   "id": "5fa54f33",
   "metadata": {},
   "outputs": [],
   "source": [
    "import sys\n",
    "from copy import copy\n",
    "from pprint import pprint\n",
    "\n",
    "from dicfg.reader import ConfigReader\n",
    "\n",
    "\n",
    "class MyConfigReader(ConfigReader):\n",
    "    NAME = \"myconfig\"\n",
    "\n",
    "\n",
    "# copying sys.argv such that we can re-use it later\n",
    "sys_argv = copy(sys.argv)"
   ]
  },
  {
   "cell_type": "markdown",
   "id": "1319711a",
   "metadata": {},
   "source": [
    "**./configs/config.yml**\n",
    "```yaml\n",
    "default:\n",
    "    config_int: 1\n",
    "    config_string: \"fire\"\n",
    "    config_list: [1,2,3]\n",
    "    config_none: None\n",
    "    config_dict:\n",
    "        sub_config: \"water\"\n",
    "``` \n",
    "    "
   ]
  },
  {
   "cell_type": "markdown",
   "id": "19734409-ca05-4342-bba1-be8bda43c0f6",
   "metadata": {},
   "source": [
    "### The main config can be **updated via command line interface** arguments\n",
    "Above is the default config listed for our project. We change settings in the config  via the command line interface with dotlist like so:"
   ]
  },
  {
   "cell_type": "code",
   "execution_count": 2,
   "id": "64b3bf25",
   "metadata": {},
   "outputs": [],
   "source": [
    "sys.argv = sys_argv + [\"myconfig.default.config_int=2\"]"
   ]
  },
  {
   "cell_type": "markdown",
   "id": "c2438892-7ab1-436c-b6fa-11f0ef074a7e",
   "metadata": {},
   "source": [
    "If we then read a empty user config, the main config will be update with the cahnges specified via the command line interface"
   ]
  },
  {
   "cell_type": "code",
   "execution_count": 3,
   "id": "01a63449",
   "metadata": {},
   "outputs": [
    {
     "name": "stdout",
     "output_type": "stream",
     "text": [
      "{'default': {'config_int': 2,\n",
      "             'config_string': 'fire',\n",
      "             'config_list': [1, 2, 3],\n",
      "             'config_none': 'None',\n",
      "             'config_dict': {'sub_config': 'water'}}}\n"
     ]
    }
   ],
   "source": [
    "pprint(MyConfigReader.read(), sort_dicts=False)"
   ]
  },
  {
   "cell_type": "markdown",
   "id": "7b5f1c3c-7cc1-430f-9f5d-ccfffa10b9d9",
   "metadata": {},
   "source": [
    "### **All config types** can be update via command line interface arguments"
   ]
  },
  {
   "cell_type": "code",
   "execution_count": 4,
   "id": "97b05381",
   "metadata": {},
   "outputs": [
    {
     "name": "stdout",
     "output_type": "stream",
     "text": [
      "{'default': {'config_int': 2,\n",
      "             'config_string': 'fire',\n",
      "             'config_list': [2, 4, 6],\n",
      "             'config_none': 'None',\n",
      "             'config_dict': {'sub_config': 'air'}}}\n"
     ]
    }
   ],
   "source": [
    "sys.argv = sys_argv + [\n",
    "    \"myconfig.default.config_int=2\",\n",
    "    \"myconfig.default.config_list=[2,4,6]\",\n",
    "    \"myconfig.default.config_dict.sub_config='air'\",\n",
    "]\n",
    "pprint(MyConfigReader.read(), sort_dicts=False)"
   ]
  },
  {
   "cell_type": "markdown",
   "id": "eef6fe29-aab5-4810-b985-7f6f5cbc8465",
   "metadata": {},
   "source": [
    "### Command line interface arguments will **override corresponding user config values**"
   ]
  },
  {
   "cell_type": "code",
   "execution_count": 5,
   "id": "2d07a39b-5d5b-4e25-ad9e-fc8084879777",
   "metadata": {},
   "outputs": [
    {
     "name": "stdout",
     "output_type": "stream",
     "text": [
      "{'default': {'config_int': 2,\n",
      "             'config_string': 'fire',\n",
      "             'config_list': [1, 2, 3],\n",
      "             'config_none': 'None',\n",
      "             'config_dict': {'sub_config': 'water'}}}\n"
     ]
    }
   ],
   "source": [
    "sys.argv = sys_argv + [\"myconfig.default.config_int=2\"]\n",
    "user_config = {\"myconfig\": {\"default\": {\"config_int\": -1}}}\n",
    "pprint(MyConfigReader.read(user_config), sort_dicts=False)"
   ]
  }
 ],
 "metadata": {
  "kernelspec": {
   "display_name": "Python 3",
   "language": "python",
   "name": "python3"
  },
  "language_info": {
   "codemirror_mode": {
    "name": "ipython",
    "version": 3
   },
   "file_extension": ".py",
   "mimetype": "text/x-python",
   "name": "python",
   "nbconvert_exporter": "python",
   "pygments_lexer": "ipython3",
   "version": "3.8.5"
  }
 },
 "nbformat": 4,
 "nbformat_minor": 5
}
