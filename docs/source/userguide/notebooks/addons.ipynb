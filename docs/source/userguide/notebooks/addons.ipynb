{
 "cells": [
  {
   "cell_type": "markdown",
   "metadata": {},
   "source": [
    "# **Addons**\n",
    "\n",
    "Addons is a feature of dicfg that can be added to the config dictionary keys via ```@addon_type{addon_name}``` syntax.\n",
    "Currently there are these types of addons:\n",
    "- validator (@validate(...))\n",
    "- updater (@update(...))\n",
    "- templates (@validate(...))\n",
    "\n",
    "Below these types are discussed in more detail.\n"
   ]
  },
  {
   "cell_type": "code",
   "execution_count": 5,
   "metadata": {},
   "outputs": [],
   "source": [
    "from pprint import pprint\n",
    "\n",
    "from dicfg import ConfigReader"
   ]
  },
  {
   "cell_type": "markdown",
   "metadata": {},
   "source": [
    "## Validators: use validators with **@validate(validator-name)** in config files\n",
    "\n",
    "Dicfg has the following builtin validators: \n",
    " - **required**: using this validator throws an error if the value is empty, useful when a value is required to be set by a user.\n",
    " - **depreciated**: using this validator throws an error if the values is not empty, useful when a name has changed and should'nt be used anymore\n",
    " - **object**: using this validator throws an error if the object is not defined with \"*object\", or if object can not be loaded, or if arguments are not valid arguments. "
   ]
  },
  {
   "cell_type": "code",
   "execution_count": 27,
   "metadata": {},
   "outputs": [
    {
     "name": "stdout",
     "output_type": "stream",
     "text": [
      "Main config:\n",
      "\n",
      "default:\n",
      "    config_int2@validator(required): \n",
      "    config_int@validator(depreciated): \n",
      "    object:\n",
      "      \"*object\": \"io.StringIO\"\n",
      "    config_string: \"fire\"\n",
      "    config_list: [1, 2, 3]\n",
      "    config_none: None\n",
      "    config_dict:\n",
      "        sub_config: \"water\"\n",
      "\n",
      "\n",
      "        \n",
      "Output config:\n",
      "\n",
      "{'default': {'config_int2': 3,\n",
      "             'config_int': None,\n",
      "             'object': {'*object': 'io.StringIO'},\n",
      "             'config_string': 'fire',\n",
      "             'config_list': [1, 2, 3],\n",
      "             'config_none': 'None',\n",
      "             'config_dict': {'sub_config': 'water'}}}\n"
     ]
    }
   ],
   "source": [
    "print(\"Main config:\\n\")\n",
    "!cat ./configs/config_with_validators.yml\n",
    "config_reader = ConfigReader(name=\"myconfig\", main_config_path=\"./configs/config_with_validators.yml\")\n",
    "user_config = {'myconfig': {'default': {'config_int2': 3}}}\n",
    "print(\"\\n\"+\"Output config:\\n\")\n",
    "pprint(config_reader.read(user_config), sort_dicts=False)  "
   ]
  },
  {
   "cell_type": "markdown",
   "metadata": {},
   "source": [
    "## Updaters: use updates with **@update(updater-name)** in config files\n",
    "\n",
    "Dicfg has the following builtin validators: \n",
    " - **replace**: using this updater replaces a list or dict completely\n",
    " - **merge**: using this updater merges a list or dict with the additional values\n",
    "\n",
    "**Note**: Default behaviour or a dict is merge and the default behaviour of a list is replace"
   ]
  },
  {
   "cell_type": "code",
   "execution_count": 28,
   "metadata": {},
   "outputs": [
    {
     "name": "stdout",
     "output_type": "stream",
     "text": [
      "Main config:\n",
      "\n",
      "default:\n",
      "    config_string: \"fire\"\n",
      "    config_list@updater(merge): [1, 2, 3]\n",
      "    config_none: None\n",
      "    config_dict@updater(replace):\n",
      "        sub_config: \"water\"\n",
      "\n",
      "\n",
      "        \n",
      "Output config:\n",
      "\n",
      "{'default': {'config_string': 'fire',\n",
      "             'config_list': [1, 2, 3, 20],\n",
      "             'config_none': 'None',\n",
      "             'config_dict': {'new': 'new'}}}\n"
     ]
    }
   ],
   "source": [
    "print(\"Main config:\\n\")\n",
    "!cat ./configs/config_with_updaters.yml\n",
    "config_reader = ConfigReader(name=\"myconfig\", main_config_path=\"./configs/config_with_updaters.yml\")\n",
    "user_config = {'myconfig': {'default': {'config_list': [20], 'config_dict': {'new': 'new'}}}}\n",
    "print(\"\\n\"+\"Output config:\\n\")\n",
    "pprint(config_reader.read(user_config), sort_dicts=False)  "
   ]
  },
  {
   "cell_type": "markdown",
   "metadata": {},
   "source": [
    "## Templates: use templates with **@template(template-name)** in config files\n",
    "\n",
    "Templates are predefined configs defined in subclass of TemplateAddon. Here below is an example with StringIO:"
   ]
  },
  {
   "cell_type": "code",
   "execution_count": 13,
   "metadata": {},
   "outputs": [
    {
     "name": "stdout",
     "output_type": "stream",
     "text": [
      "\n",
      "from dicfg.addons.addons import TemplateAddon\n",
      "\n",
      "\n",
      "class StringIOTemplate(TemplateAddon):\n",
      "    \"\"\"Template for io.StringIO object\"\"\"\n",
      "\n",
      "    NAME = \"stringio\"\n",
      "\n",
      "    @property\n",
      "    def data(self):\n",
      "        return {\n",
      "            \"*object\": \"io.StringIO\",\n",
      "            \"initial_value@validator(required)\": \"\",\n",
      "            \"newline\": 3,\n",
      "        }\n"
     ]
    }
   ],
   "source": [
    "!cat /Users/mart/code/dicfg/dicfg/addons/templates.py"
   ]
  },
  {
   "cell_type": "markdown",
   "metadata": {},
   "source": [
    "This template can be used as follows:"
   ]
  },
  {
   "cell_type": "code",
   "execution_count": 29,
   "metadata": {},
   "outputs": [
    {
     "name": "stdout",
     "output_type": "stream",
     "text": [
      "Main config:\n",
      "\n",
      "default:\n",
      "    config_string: \"fire\"\n",
      "    config_list: [1, 2, 3]\n",
      "    config_none: None\n",
      "    config_dict:\n",
      "        sub_config: \"water\"\n",
      "    mystringio@template(stringio):\n",
      "\n",
      "        \n",
      "Output config:\n",
      "\n",
      "{'default': {'config_string': 'fire',\n",
      "             'config_list': [1, 2, 3],\n",
      "             'config_none': 'None',\n",
      "             'config_dict': {'sub_config': 'water'},\n",
      "             'mystringio': {'*object': 'io.StringIO',\n",
      "                            'initial_value': 'hello_template',\n",
      "                            'newline': 3}}}\n"
     ]
    }
   ],
   "source": [
    "print(\"Main config:\\n\")\n",
    "!cat ./configs/config_with_templates.yml\n",
    "config_reader = ConfigReader(name=\"myconfig\", main_config_path=\"./configs/config_with_templates.yml\")\n",
    "user_config = {'myconfig': {'default': {'mystringio': {'initial_value': 'hello_template'}}}}\n",
    "print(\"\\n\"+\"Output config:\\n\")\n",
    "pprint(config_reader.read(user_config), sort_dicts=False)  "
   ]
  }
 ],
 "metadata": {
  "kernelspec": {
   "display_name": "dicfg",
   "language": "python",
   "name": "python3"
  },
  "language_info": {
   "codemirror_mode": {
    "name": "ipython",
    "version": 3
   },
   "file_extension": ".py",
   "mimetype": "text/x-python",
   "name": "python",
   "nbconvert_exporter": "python",
   "pygments_lexer": "ipython3",
   "version": "3.10.14"
  }
 },
 "nbformat": 4,
 "nbformat_minor": 2
}
