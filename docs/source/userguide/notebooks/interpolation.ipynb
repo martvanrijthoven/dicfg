{
 "cells": [
  {
   "cell_type": "markdown",
   "id": "ed5aaee6-e9d3-4223-87af-1751b4127cb5",
   "metadata": {
    "tags": []
   },
   "source": [
    "# Interpolation\n",
    "----"
   ]
  },
  {
   "cell_type": "code",
   "execution_count": 25,
   "id": "bd5d160d-3fd7-4529-a653-b3adc2a85178",
   "metadata": {},
   "outputs": [],
   "source": [
    "from pprint import pprint\n",
    "\n",
    "from dicfg.factory import ObjectFactory\n",
    "from dicfg.reader import ConfigReader\n",
    "\n",
    "\n",
    "class MyConfigReader(ConfigReader):\n",
    "    NAME = \"myconfig\""
   ]
  },
  {
   "cell_type": "markdown",
   "id": "f2636dad-3357-4f5f-8953-09a6ca359380",
   "metadata": {},
   "source": [
    "**./configs/config.yml**\n",
    "\n",
    "```yaml\n",
    "default:\n",
    "    config_int: 1\n",
    "    config_string: \"fire\"\n",
    "    config_list: [1,2,3]\n",
    "    config_none: None\n",
    "    config_dict:\n",
    "        sub_config: \"water\"\n",
    "\n",
    "``` "
   ]
  },
  {
   "cell_type": "markdown",
   "id": "51b53261-0967-4ffe-8386-5010924482d3",
   "metadata": {},
   "source": [
    "### **Config files** (.yml, '.yaml', and 'json') can be **interpolated** in a config"
   ]
  },
  {
   "cell_type": "markdown",
   "id": "9a098085-1ccd-4d33-8aa0-6c40e67ad468",
   "metadata": {},
   "source": [
    "**./interpolation.yml**\n",
    "\n",
    "```yaml\n",
    "sub_config: 'earth'\n",
    "```"
   ]
  },
  {
   "cell_type": "code",
   "execution_count": 26,
   "id": "063ff673-9fbd-4e87-986b-8d4c317071ca",
   "metadata": {},
   "outputs": [
    {
     "name": "stdout",
     "output_type": "stream",
     "text": [
      "{'default': {'config_int': 1,\n",
      "             'config_string': 'fire',\n",
      "             'config_list': [1, 2, 3],\n",
      "             'config_none': 'None',\n",
      "             'config_dict': {'sub_config': 'earth'}}}\n"
     ]
    }
   ],
   "source": [
    "user_config = {\"myconfig\": {\"default\": {\"config_dict\": \"./interpolation.yml\"}}}\n",
    "pprint(MyConfigReader.read(user_config), sort_dicts=False)"
   ]
  },
  {
   "cell_type": "markdown",
   "id": "497511f7-5111-4ea2-926f-beae24f1f772",
   "metadata": {},
   "source": [
    "### **Config values** can be **interpolated** in a config by referencing with **$(key)** and building the config with **ObjectFactory**"
   ]
  },
  {
   "cell_type": "code",
   "execution_count": 27,
   "id": "579f4244-5343-493f-9b6a-ff301548c00c",
   "metadata": {},
   "outputs": [
    {
     "name": "stdout",
     "output_type": "stream",
     "text": [
      "{'default': {'config_int': 1,\n",
      "             'config_string': 'fire',\n",
      "             'config_list': [1, 2, 3],\n",
      "             'config_none': 'None',\n",
      "             'config_dict': {'sub_config': '${config_string}'}}}\n",
      "\n",
      "default config build:\n",
      "\n",
      "{'config_int': 1,\n",
      " 'config_string': 'fire',\n",
      " 'config_list': [1, 2, 3],\n",
      " 'config_none': None,\n",
      " 'config_dict': {'sub_config': 'fire'}}\n"
     ]
    }
   ],
   "source": [
    "user_config = {\n",
    "    \"myconfig\": {\"default\": {\"config_dict\": {\"sub_config\": \"${config_string}\"}}}\n",
    "}\n",
    "reader = MyConfigReader.read(user_config)\n",
    "pprint(reader, sort_dicts=False)\n",
    "\n",
    "print(\"\\ndefault config build:\\n\")\n",
    "pprint(ObjectFactory.build(reader[\"default\"]), sort_dicts=False)"
   ]
  },
  {
   "cell_type": "markdown",
   "id": "397c84d4-1309-45d8-8c24-7ea020910e2a",
   "metadata": {},
   "source": [
    "### **String values** can be **interpolated** in a config by referencing with **$(key)** and building the config with **ObjectFactory**"
   ]
  },
  {
   "cell_type": "code",
   "execution_count": 28,
   "id": "bbf0d06f-c61f-4d19-826e-4b8ded5f570e",
   "metadata": {},
   "outputs": [
    {
     "name": "stdout",
     "output_type": "stream",
     "text": [
      "{'default': {'config_int': 1,\n",
      "             'config_string': 'fire',\n",
      "             'config_list': [1, 2, 3],\n",
      "             'config_none': 'None',\n",
      "             'config_dict': {'sub_config': 'water&${config_string}'}}}\n",
      "\n",
      "default config build:\n",
      "\n",
      "{'config_int': 1,\n",
      " 'config_string': 'fire',\n",
      " 'config_list': [1, 2, 3],\n",
      " 'config_none': None,\n",
      " 'config_dict': {'sub_config': 'water&fire'}}\n"
     ]
    }
   ],
   "source": [
    "user_config = {\n",
    "    \"myconfig\": {\"default\": {\"config_dict\": {\"sub_config\": \"water&${config_string}\"}}}\n",
    "}\n",
    "reader = MyConfigReader.read(user_config)\n",
    "pprint(reader, sort_dicts=False)\n",
    "\n",
    "print(\"\\ndefault config build:\\n\")\n",
    "pprint(ObjectFactory.build(reader[\"default\"]), sort_dicts=False)"
   ]
  },
  {
   "cell_type": "code",
   "execution_count": null,
   "id": "65c5eac2-1b59-4e3d-88ff-60ad23311643",
   "metadata": {},
   "outputs": [],
   "source": []
  }
 ],
 "metadata": {
  "kernelspec": {
   "display_name": "Python 3",
   "language": "python",
   "name": "python3"
  },
  "language_info": {
   "codemirror_mode": {
    "name": "ipython",
    "version": 3
   },
   "file_extension": ".py",
   "mimetype": "text/x-python",
   "name": "python",
   "nbconvert_exporter": "python",
   "pygments_lexer": "ipython3",
   "version": "3.8.5"
  }
 },
 "nbformat": 4,
 "nbformat_minor": 5
}
