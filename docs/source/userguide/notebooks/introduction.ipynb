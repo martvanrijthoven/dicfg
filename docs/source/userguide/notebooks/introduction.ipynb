{
 "cells": [
  {
   "cell_type": "markdown",
   "id": "db36061b",
   "metadata": {},
   "source": [
    "# Introduction\n",
    "----"
   ]
  },
  {
   "cell_type": "code",
   "execution_count": 12,
   "id": "2cf24d07",
   "metadata": {},
   "outputs": [],
   "source": [
    "from pprint import pprint\n",
    "\n",
    "from dicfg.reader import ConfigReader"
   ]
  },
  {
   "cell_type": "markdown",
   "id": "380de45b-27c5-43e4-9efd-726e78e7c38d",
   "metadata": {},
   "source": [
    "### The first step is to **create your own ConfigReader**\n",
    "\n",
    "1. Subclass ConfigReader\n",
    "2. Specific a class variable 'NAME'. (This allows referencing the config via this name)"
   ]
  },
  {
   "cell_type": "code",
   "execution_count": 13,
   "id": "bce6c848",
   "metadata": {},
   "outputs": [],
   "source": [
    "class MyConfigReader(ConfigReader):\n",
    "    NAME = \"myconfig\""
   ]
  },
  {
   "cell_type": "markdown",
   "id": "371a8084-a976-42d0-9774-964ed3922bff",
   "metadata": {},
   "source": [
    "### The second step is to **create a main config file**\n",
    "\n",
    "1. Create a folder: **configs**, in the same folder were the python/jupyter file subclassed ConfigReader is saved.\n",
    "2. Create a **config.yml** in the **configs** folder and specify all defaults setting for your project."
   ]
  },
  {
   "cell_type": "markdown",
   "id": "1a19e812",
   "metadata": {},
   "source": [
    "**./configs/config.yml**\n",
    "\n",
    "```yaml\n",
    "default:\n",
    "    config_int: 1\n",
    "    config_string: \"fire\"\n",
    "    config_list: [1,2,3]\n",
    "    config_none: None\n",
    "    config_dict:\n",
    "        sub_config: \"water\"\n",
    "\n",
    "``` \n",
    "    "
   ]
  },
  {
   "cell_type": "markdown",
   "id": "45e2cf2b-94f3-49ea-b00b-5a5217194985",
   "metadata": {},
   "source": [
    "### The config file can be read with the **.read method** of the ConfigReader class"
   ]
  },
  {
   "cell_type": "code",
   "execution_count": 14,
   "id": "df6012f0",
   "metadata": {},
   "outputs": [
    {
     "name": "stdout",
     "output_type": "stream",
     "text": [
      "{'default': {'config_int': 1,\n",
      "             'config_string': 'fire',\n",
      "             'config_list': [1, 2, 3],\n",
      "             'config_none': 'None',\n",
      "             'config_dict': {'sub_config': 'water'}}}\n"
     ]
    }
   ],
   "source": [
    "pprint(MyConfigReader.read(), sort_dicts=False)"
   ]
  },
  {
   "cell_type": "markdown",
   "id": "63798a36-135a-4e17-84b1-0228c2286211",
   "metadata": {},
   "source": [
    "### The main config can be **updated with a dictionary**\n",
    "\n",
    "Note the **myconfig** key in the user config; this makes sure the ConfgReader can find the relevant settings."
   ]
  },
  {
   "cell_type": "code",
   "execution_count": 15,
   "id": "9090b51c",
   "metadata": {},
   "outputs": [
    {
     "name": "stdout",
     "output_type": "stream",
     "text": [
      "{'default': {'config_int': 2,\n",
      "             'config_string': 'fire',\n",
      "             'config_list': [1, 2, 3],\n",
      "             'config_none': 'None',\n",
      "             'config_dict': {'sub_config': 'water'}}}\n"
     ]
    }
   ],
   "source": [
    "user_config = {\"myconfig\": {\"default\": {\"config_int\": 2}}}\n",
    "pprint(MyConfigReader.read(user_config), sort_dicts=False)"
   ]
  },
  {
   "cell_type": "markdown",
   "id": "a1da1c25-d690-4b72-97b2-5759b246b7ad",
   "metadata": {},
   "source": [
    "### The main config can be **updated with a user config file** (.yml, .yaml, .json)"
   ]
  },
  {
   "cell_type": "markdown",
   "id": "d4493e2c-a596-4ad2-b38e-b8da347d316f",
   "metadata": {},
   "source": [
    "**./user_config.yml**\n",
    "```yaml\n",
    "myconfig:\n",
    "    default:\n",
    "        config_int: 3\n",
    "```"
   ]
  },
  {
   "cell_type": "code",
   "execution_count": 16,
   "id": "d898563e",
   "metadata": {},
   "outputs": [
    {
     "name": "stdout",
     "output_type": "stream",
     "text": [
      "{'default': {'config_int': 3,\n",
      "             'config_string': 'fire',\n",
      "             'config_list': [1, 2, 3],\n",
      "             'config_none': 'None',\n",
      "             'config_dict': {'sub_config': 'water'}}}\n"
     ]
    }
   ],
   "source": [
    "user_config = \"./user_config.yml\"\n",
    "pprint(MyConfigReader.read(user_config), sort_dicts=False)"
   ]
  }
 ],
 "metadata": {
  "kernelspec": {
   "display_name": "Python 3",
   "language": "python",
   "name": "python3"
  },
  "language_info": {
   "codemirror_mode": {
    "name": "ipython",
    "version": 3
   },
   "file_extension": ".py",
   "mimetype": "text/x-python",
   "name": "python",
   "nbconvert_exporter": "python",
   "pygments_lexer": "ipython3",
   "version": "3.8.5"
  }
 },
 "nbformat": 4,
 "nbformat_minor": 5
}
