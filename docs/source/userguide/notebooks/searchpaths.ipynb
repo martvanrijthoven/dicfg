{
 "cells": [
  {
   "cell_type": "markdown",
   "id": "f182e99c-8459-4031-8754-3df40b053463",
   "metadata": {},
   "source": [
    "# **Search Paths**\n",
    "----"
   ]
  },
  {
   "cell_type": "code",
   "execution_count": 9,
   "id": "1360b6be-2e06-4124-baaa-c902f21cdf9a",
   "metadata": {},
   "outputs": [],
   "source": [
    "from pprint import pprint\n",
    "\n",
    "from dicfg.reader import ConfigReader"
   ]
  },
  {
   "cell_type": "markdown",
   "id": "cead316f-f3d4-441b-a079-13f10bac8d35",
   "metadata": {},
   "source": [
    "### **Config files are searched only** in the **configs folder** and the **current working directory**."
   ]
  },
  {
   "cell_type": "code",
   "execution_count": 10,
   "id": "b7993bf1-25fd-4277-9d2a-66b9469f90f5",
   "metadata": {},
   "outputs": [
    {
     "name": "stdout",
     "output_type": "stream",
     "text": [
      "100"
     ]
    }
   ],
   "source": [
    "!cat ./my_other_config_dir/my_other_config.yml"
   ]
  },
  {
   "cell_type": "code",
   "execution_count": 11,
   "id": "4d80748f-eb9e-4967-9bb7-dabc6b86ddeb",
   "metadata": {},
   "outputs": [
    {
     "ename": "ConfigNotFoundError",
     "evalue": "my_other_config.yml",
     "output_type": "error",
     "traceback": [
      "\u001b[0;31m---------------------------------------------------------------------------\u001b[0m",
      "\u001b[0;31mConfigNotFoundError\u001b[0m                       Traceback (most recent call last)",
      "Input \u001b[0;32mIn [11]\u001b[0m, in \u001b[0;36m<cell line: 3>\u001b[0;34m()\u001b[0m\n\u001b[1;32m      1\u001b[0m config_reader \u001b[38;5;241m=\u001b[39m ConfigReader(name\u001b[38;5;241m=\u001b[39m\u001b[38;5;124m'\u001b[39m\u001b[38;5;124mmyconfig\u001b[39m\u001b[38;5;124m'\u001b[39m)\n\u001b[1;32m      2\u001b[0m user_config \u001b[38;5;241m=\u001b[39m {\u001b[38;5;124m\"\u001b[39m\u001b[38;5;124mmyconfig\u001b[39m\u001b[38;5;124m\"\u001b[39m: {\u001b[38;5;124m\"\u001b[39m\u001b[38;5;124mdefault\u001b[39m\u001b[38;5;124m\"\u001b[39m: {\u001b[38;5;124m\"\u001b[39m\u001b[38;5;124mconfig_int\u001b[39m\u001b[38;5;124m\"\u001b[39m: \u001b[38;5;124m\"\u001b[39m\u001b[38;5;124mmy_other_config.yml\u001b[39m\u001b[38;5;124m\"\u001b[39m}}}\n\u001b[0;32m----> 3\u001b[0m pprint(\u001b[43mconfig_reader\u001b[49m\u001b[38;5;241;43m.\u001b[39;49m\u001b[43mread\u001b[49m\u001b[43m(\u001b[49m\u001b[43muser_config\u001b[49m\u001b[43m)\u001b[49m, sort_dicts\u001b[38;5;241m=\u001b[39m\u001b[38;5;28;01mFalse\u001b[39;00m)\n",
      "File \u001b[0;32m~/code/dicfg/dicfg/reader.py:105\u001b[0m, in \u001b[0;36mConfigReader.read\u001b[0;34m(self, user_config, presets)\u001b[0m\n\u001b[1;32m    102\u001b[0m cli_config \u001b[38;5;241m=\u001b[39m \u001b[38;5;28mself\u001b[39m\u001b[38;5;241m.\u001b[39m_read_cli(sys\u001b[38;5;241m.\u001b[39margv[\u001b[38;5;241m1\u001b[39m:])\n\u001b[1;32m    104\u001b[0m configs \u001b[38;5;241m=\u001b[39m (self_config, \u001b[38;5;241m*\u001b[39mpreset_configs, user_config, cli_config)\n\u001b[0;32m--> 105\u001b[0m configs \u001b[38;5;241m=\u001b[39m \u001b[38;5;28;43mself\u001b[39;49m\u001b[38;5;241;43m.\u001b[39;49m\u001b[43m_fuse_configs\u001b[49m\u001b[43m(\u001b[49m\u001b[43mconfigs\u001b[49m\u001b[43m,\u001b[49m\u001b[43m \u001b[49m\u001b[38;5;28;43mself\u001b[39;49m\u001b[38;5;241;43m.\u001b[39;49m\u001b[43m_context_keys\u001b[49m\u001b[43m,\u001b[49m\u001b[43m \u001b[49m\u001b[43msearch_paths\u001b[49m\u001b[43m)\u001b[49m\n\u001b[1;32m    107\u001b[0m \u001b[38;5;28;01mreturn\u001b[39;00m merge(\u001b[38;5;241m*\u001b[39mconfigs)\u001b[38;5;241m.\u001b[39mcast()\n",
      "File \u001b[0;32m~/code/dicfg/dicfg/reader.py:146\u001b[0m, in \u001b[0;36mConfigReader._fuse_configs\u001b[0;34m(self, configs, context_keys, search_paths)\u001b[0m\n\u001b[1;32m    142\u001b[0m \u001b[38;5;28;01mdef\u001b[39;00m \u001b[38;5;21m_fuse_configs\u001b[39m(\u001b[38;5;28mself\u001b[39m, configs, context_keys, search_paths):\n\u001b[1;32m    143\u001b[0m     fuse_config \u001b[38;5;241m=\u001b[39m partial(\n\u001b[1;32m    144\u001b[0m         \u001b[38;5;28mself\u001b[39m\u001b[38;5;241m.\u001b[39m_fuse_config, context_keys\u001b[38;5;241m=\u001b[39mcontext_keys, search_paths\u001b[38;5;241m=\u001b[39msearch_paths\n\u001b[1;32m    145\u001b[0m     )\n\u001b[0;32m--> 146\u001b[0m     \u001b[38;5;28;01mreturn\u001b[39;00m \u001b[38;5;28;43mtuple\u001b[39;49m\u001b[43m(\u001b[49m\u001b[38;5;28;43mmap\u001b[39;49m\u001b[43m(\u001b[49m\u001b[43mfuse_config\u001b[49m\u001b[43m,\u001b[49m\u001b[43m \u001b[49m\u001b[43mconfigs\u001b[49m\u001b[43m)\u001b[49m\u001b[43m)\u001b[49m\n",
      "File \u001b[0;32m~/code/dicfg/dicfg/reader.py:149\u001b[0m, in \u001b[0;36mConfigReader._fuse_config\u001b[0;34m(self, config, context_keys, search_paths)\u001b[0m\n\u001b[1;32m    148\u001b[0m \u001b[38;5;28;01mdef\u001b[39;00m \u001b[38;5;21m_fuse_config\u001b[39m(\u001b[38;5;28mself\u001b[39m, config: \u001b[38;5;28mdict\u001b[39m, context_keys: \u001b[38;5;28mtuple\u001b[39m, search_paths):\n\u001b[0;32m--> 149\u001b[0m     config \u001b[38;5;241m=\u001b[39m \u001b[43m_include_configs\u001b[49m\u001b[43m(\u001b[49m\u001b[43mconfig\u001b[49m\u001b[43m,\u001b[49m\u001b[43m \u001b[49m\u001b[43msearch_paths\u001b[49m\u001b[43m)\u001b[49m\n\u001b[1;32m    150\u001b[0m     fused_config \u001b[38;5;241m=\u001b[39m deepcopy(\n\u001b[1;32m    151\u001b[0m         {key: deepcopy(config\u001b[38;5;241m.\u001b[39mget(\u001b[38;5;124m\"\u001b[39m\u001b[38;5;124mdefault\u001b[39m\u001b[38;5;124m\"\u001b[39m, {})) \u001b[38;5;28;01mfor\u001b[39;00m key \u001b[38;5;129;01min\u001b[39;00m context_keys}\n\u001b[1;32m    152\u001b[0m     )\n\u001b[1;32m    153\u001b[0m     \u001b[38;5;28;01mreturn\u001b[39;00m merge(fused_config, config)\n",
      "File \u001b[0;32m~/anaconda3/envs/mart/lib/python3.8/functools.py:875\u001b[0m, in \u001b[0;36msingledispatch.<locals>.wrapper\u001b[0;34m(*args, **kw)\u001b[0m\n\u001b[1;32m    871\u001b[0m \u001b[38;5;28;01mif\u001b[39;00m \u001b[38;5;129;01mnot\u001b[39;00m args:\n\u001b[1;32m    872\u001b[0m     \u001b[38;5;28;01mraise\u001b[39;00m \u001b[38;5;167;01mTypeError\u001b[39;00m(\u001b[38;5;124mf\u001b[39m\u001b[38;5;124m'\u001b[39m\u001b[38;5;132;01m{\u001b[39;00mfuncname\u001b[38;5;132;01m}\u001b[39;00m\u001b[38;5;124m requires at least \u001b[39m\u001b[38;5;124m'\u001b[39m\n\u001b[1;32m    873\u001b[0m                     \u001b[38;5;124m'\u001b[39m\u001b[38;5;124m1 positional argument\u001b[39m\u001b[38;5;124m'\u001b[39m)\n\u001b[0;32m--> 875\u001b[0m \u001b[38;5;28;01mreturn\u001b[39;00m \u001b[43mdispatch\u001b[49m\u001b[43m(\u001b[49m\u001b[43margs\u001b[49m\u001b[43m[\u001b[49m\u001b[38;5;241;43m0\u001b[39;49m\u001b[43m]\u001b[49m\u001b[38;5;241;43m.\u001b[39;49m\u001b[38;5;18;43m__class__\u001b[39;49m\u001b[43m)\u001b[49m\u001b[43m(\u001b[49m\u001b[38;5;241;43m*\u001b[39;49m\u001b[43margs\u001b[49m\u001b[43m,\u001b[49m\u001b[43m \u001b[49m\u001b[38;5;241;43m*\u001b[39;49m\u001b[38;5;241;43m*\u001b[39;49m\u001b[43mkw\u001b[49m\u001b[43m)\u001b[49m\n",
      "File \u001b[0;32m~/code/dicfg/dicfg/reader.py:192\u001b[0m, in \u001b[0;36m_include_configs_dict\u001b[0;34m(config, search_paths)\u001b[0m\n\u001b[1;32m    189\u001b[0m \u001b[38;5;129m@_include_configs\u001b[39m\u001b[38;5;241m.\u001b[39mregister\n\u001b[1;32m    190\u001b[0m \u001b[38;5;28;01mdef\u001b[39;00m \u001b[38;5;21m_include_configs_dict\u001b[39m(config: \u001b[38;5;28mdict\u001b[39m, search_paths):\n\u001b[1;32m    191\u001b[0m     \u001b[38;5;28;01mfor\u001b[39;00m key, value \u001b[38;5;129;01min\u001b[39;00m config\u001b[38;5;241m.\u001b[39mitems():\n\u001b[0;32m--> 192\u001b[0m         config[key] \u001b[38;5;241m=\u001b[39m \u001b[43m_include_configs\u001b[49m\u001b[43m(\u001b[49m\u001b[43mvalue\u001b[49m\u001b[43m,\u001b[49m\u001b[43m \u001b[49m\u001b[43msearch_paths\u001b[49m\u001b[43m)\u001b[49m\n\u001b[1;32m    193\u001b[0m     \u001b[38;5;28;01mreturn\u001b[39;00m config\n",
      "File \u001b[0;32m~/anaconda3/envs/mart/lib/python3.8/functools.py:875\u001b[0m, in \u001b[0;36msingledispatch.<locals>.wrapper\u001b[0;34m(*args, **kw)\u001b[0m\n\u001b[1;32m    871\u001b[0m \u001b[38;5;28;01mif\u001b[39;00m \u001b[38;5;129;01mnot\u001b[39;00m args:\n\u001b[1;32m    872\u001b[0m     \u001b[38;5;28;01mraise\u001b[39;00m \u001b[38;5;167;01mTypeError\u001b[39;00m(\u001b[38;5;124mf\u001b[39m\u001b[38;5;124m'\u001b[39m\u001b[38;5;132;01m{\u001b[39;00mfuncname\u001b[38;5;132;01m}\u001b[39;00m\u001b[38;5;124m requires at least \u001b[39m\u001b[38;5;124m'\u001b[39m\n\u001b[1;32m    873\u001b[0m                     \u001b[38;5;124m'\u001b[39m\u001b[38;5;124m1 positional argument\u001b[39m\u001b[38;5;124m'\u001b[39m)\n\u001b[0;32m--> 875\u001b[0m \u001b[38;5;28;01mreturn\u001b[39;00m \u001b[43mdispatch\u001b[49m\u001b[43m(\u001b[49m\u001b[43margs\u001b[49m\u001b[43m[\u001b[49m\u001b[38;5;241;43m0\u001b[39;49m\u001b[43m]\u001b[49m\u001b[38;5;241;43m.\u001b[39;49m\u001b[38;5;18;43m__class__\u001b[39;49m\u001b[43m)\u001b[49m\u001b[43m(\u001b[49m\u001b[38;5;241;43m*\u001b[39;49m\u001b[43margs\u001b[49m\u001b[43m,\u001b[49m\u001b[43m \u001b[49m\u001b[38;5;241;43m*\u001b[39;49m\u001b[38;5;241;43m*\u001b[39;49m\u001b[43mkw\u001b[49m\u001b[43m)\u001b[49m\n",
      "File \u001b[0;32m~/code/dicfg/dicfg/reader.py:192\u001b[0m, in \u001b[0;36m_include_configs_dict\u001b[0;34m(config, search_paths)\u001b[0m\n\u001b[1;32m    189\u001b[0m \u001b[38;5;129m@_include_configs\u001b[39m\u001b[38;5;241m.\u001b[39mregister\n\u001b[1;32m    190\u001b[0m \u001b[38;5;28;01mdef\u001b[39;00m \u001b[38;5;21m_include_configs_dict\u001b[39m(config: \u001b[38;5;28mdict\u001b[39m, search_paths):\n\u001b[1;32m    191\u001b[0m     \u001b[38;5;28;01mfor\u001b[39;00m key, value \u001b[38;5;129;01min\u001b[39;00m config\u001b[38;5;241m.\u001b[39mitems():\n\u001b[0;32m--> 192\u001b[0m         config[key] \u001b[38;5;241m=\u001b[39m \u001b[43m_include_configs\u001b[49m\u001b[43m(\u001b[49m\u001b[43mvalue\u001b[49m\u001b[43m,\u001b[49m\u001b[43m \u001b[49m\u001b[43msearch_paths\u001b[49m\u001b[43m)\u001b[49m\n\u001b[1;32m    193\u001b[0m     \u001b[38;5;28;01mreturn\u001b[39;00m config\n",
      "File \u001b[0;32m~/anaconda3/envs/mart/lib/python3.8/functools.py:875\u001b[0m, in \u001b[0;36msingledispatch.<locals>.wrapper\u001b[0;34m(*args, **kw)\u001b[0m\n\u001b[1;32m    871\u001b[0m \u001b[38;5;28;01mif\u001b[39;00m \u001b[38;5;129;01mnot\u001b[39;00m args:\n\u001b[1;32m    872\u001b[0m     \u001b[38;5;28;01mraise\u001b[39;00m \u001b[38;5;167;01mTypeError\u001b[39;00m(\u001b[38;5;124mf\u001b[39m\u001b[38;5;124m'\u001b[39m\u001b[38;5;132;01m{\u001b[39;00mfuncname\u001b[38;5;132;01m}\u001b[39;00m\u001b[38;5;124m requires at least \u001b[39m\u001b[38;5;124m'\u001b[39m\n\u001b[1;32m    873\u001b[0m                     \u001b[38;5;124m'\u001b[39m\u001b[38;5;124m1 positional argument\u001b[39m\u001b[38;5;124m'\u001b[39m)\n\u001b[0;32m--> 875\u001b[0m \u001b[38;5;28;01mreturn\u001b[39;00m \u001b[43mdispatch\u001b[49m\u001b[43m(\u001b[49m\u001b[43margs\u001b[49m\u001b[43m[\u001b[49m\u001b[38;5;241;43m0\u001b[39;49m\u001b[43m]\u001b[49m\u001b[38;5;241;43m.\u001b[39;49m\u001b[38;5;18;43m__class__\u001b[39;49m\u001b[43m)\u001b[49m\u001b[43m(\u001b[49m\u001b[38;5;241;43m*\u001b[39;49m\u001b[43margs\u001b[49m\u001b[43m,\u001b[49m\u001b[43m \u001b[49m\u001b[38;5;241;43m*\u001b[39;49m\u001b[38;5;241;43m*\u001b[39;49m\u001b[43mkw\u001b[49m\u001b[43m)\u001b[49m\n",
      "File \u001b[0;32m~/code/dicfg/dicfg/reader.py:183\u001b[0m, in \u001b[0;36m_include_configs_str\u001b[0;34m(config, search_paths)\u001b[0m\n\u001b[1;32m    180\u001b[0m \u001b[38;5;129m@_include_configs\u001b[39m\u001b[38;5;241m.\u001b[39mregister\n\u001b[1;32m    181\u001b[0m \u001b[38;5;28;01mdef\u001b[39;00m \u001b[38;5;21m_include_configs_str\u001b[39m(config: \u001b[38;5;28mstr\u001b[39m, search_paths):\n\u001b[1;32m    182\u001b[0m     \u001b[38;5;28;01mif\u001b[39;00m Path(config)\u001b[38;5;241m.\u001b[39msuffix \u001b[38;5;129;01min\u001b[39;00m _FILE_READERS:\n\u001b[0;32m--> 183\u001b[0m         config_path \u001b[38;5;241m=\u001b[39m \u001b[43m_search_config\u001b[49m\u001b[43m(\u001b[49m\u001b[43mconfig\u001b[49m\u001b[43m,\u001b[49m\u001b[43m \u001b[49m\u001b[43msearch_paths\u001b[49m\u001b[43m)\u001b[49m\n\u001b[1;32m    184\u001b[0m         open_config \u001b[38;5;241m=\u001b[39m _FILE_READERS[Path(config_path)\u001b[38;5;241m.\u001b[39msuffix](config_path)\n\u001b[1;32m    185\u001b[0m         \u001b[38;5;28;01mreturn\u001b[39;00m _include_configs(open_config, search_paths)\n",
      "File \u001b[0;32m~/code/dicfg/dicfg/reader.py:172\u001b[0m, in \u001b[0;36m_search_config\u001b[0;34m(config_name, search_paths)\u001b[0m\n\u001b[1;32m    170\u001b[0m     \u001b[38;5;28;01mif\u001b[39;00m config_path\u001b[38;5;241m.\u001b[39mexists():\n\u001b[1;32m    171\u001b[0m         \u001b[38;5;28;01mreturn\u001b[39;00m config_path\n\u001b[0;32m--> 172\u001b[0m \u001b[38;5;28;01mraise\u001b[39;00m ConfigNotFoundError(config_name)\n",
      "\u001b[0;31mConfigNotFoundError\u001b[0m: my_other_config.yml"
     ]
    }
   ],
   "source": [
    "config_reader = ConfigReader(name='myconfig')\n",
    "user_config = {\"myconfig\": {\"default\": {\"config_int\": \"my_other_config.yml\"}}}\n",
    "pprint(config_reader.read(user_config), sort_dicts=False)"
   ]
  },
  {
   "cell_type": "markdown",
   "id": "b049a274-9345-4369-9129-f53ae2b05100",
   "metadata": {},
   "source": [
    "### Additional **search paths** can be set to **find** additional **config files**."
   ]
  },
  {
   "cell_type": "code",
   "execution_count": 12,
   "id": "bb61df6e-a11a-4a88-b53b-80a9e46539b9",
   "metadata": {},
   "outputs": [
    {
     "name": "stdout",
     "output_type": "stream",
     "text": [
      "100"
     ]
    }
   ],
   "source": [
    "!cat ./my_other_config_dir/my_other_config.yml"
   ]
  },
  {
   "cell_type": "code",
   "execution_count": 13,
   "id": "d41be1e1-c344-4df5-9549-9040f352db25",
   "metadata": {},
   "outputs": [
    {
     "name": "stdout",
     "output_type": "stream",
     "text": [
      "{'default': {'config_int': 100,\n",
      "             'config_string': 'fire',\n",
      "             'config_list': [1, 2, 3],\n",
      "             'config_none': 'None',\n",
      "             'config_dict': {'sub_config': 'water'}}}\n"
     ]
    }
   ],
   "source": [
    "# adding \"./my_other_config_dir\" to search path\n",
    "config_reader = ConfigReader(name='myconfig', search_paths=(\"./my_other_config_dir\",))\n",
    "user_config = {\"myconfig\": {\"default\": {\"config_int\": \"my_other_config.yml\"}}}\n",
    "pprint(\n",
    "    config_reader.read(user_config=user_config),\n",
    "    sort_dicts=False,\n",
    ")"
   ]
  }
 ],
 "metadata": {
  "kernelspec": {
   "display_name": "Python 3",
   "language": "python",
   "name": "python3"
  },
  "language_info": {
   "codemirror_mode": {
    "name": "ipython",
    "version": 3
   },
   "file_extension": ".py",
   "mimetype": "text/x-python",
   "name": "python",
   "nbconvert_exporter": "python",
   "pygments_lexer": "ipython3",
   "version": "3.8.5"
  }
 },
 "nbformat": 4,
 "nbformat_minor": 5
}
