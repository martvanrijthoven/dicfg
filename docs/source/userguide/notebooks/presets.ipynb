{
 "cells": [
  {
   "cell_type": "markdown",
   "id": "45e634dd-5d95-414b-bb70-8a6804364249",
   "metadata": {},
   "source": [
    "# **Presets**\n",
    "----"
   ]
  },
  {
   "cell_type": "code",
   "execution_count": 8,
   "id": "2e231401-4152-409b-a08c-95c1d7d50383",
   "metadata": {},
   "outputs": [],
   "source": [
    "from pprint import pprint\n",
    "\n",
    "from dicfg import ConfigReader"
   ]
  },
  {
   "cell_type": "code",
   "execution_count": 9,
   "id": "844c8ee5-f0b9-4279-83bf-c74c8075c70e",
   "metadata": {},
   "outputs": [
    {
     "name": "stdout",
     "output_type": "stream",
     "text": [
      "default:\n",
      "    config_int: 1\n",
      "    config_string: \"fire\"\n",
      "    config_list: [1, 2, 3]\n",
      "    config_none: None\n",
      "    config_dict:\n",
      "        sub_config: \"water\""
     ]
    }
   ],
   "source": [
    "!cat ./configs/config.yml\n",
    "config_reader = ConfigReader(name=\"myconfig\")"
   ]
  },
  {
   "cell_type": "markdown",
   "id": "6a4d83da-8651-4974-9524-dc7a0e20d040",
   "metadata": {},
   "source": [
    "## A presets folder in the configs folder can be used to **save and read presets settings**."
   ]
  },
  {
   "cell_type": "code",
   "execution_count": 10,
   "id": "e7a7b09c-df13-4e20-a9c7-2f1af77cf662",
   "metadata": {},
   "outputs": [
    {
     "name": "stdout",
     "output_type": "stream",
     "text": [
      "default:\n",
      "    config_string: fire\n",
      "    config_dict:\n",
      "        sub_config: fire"
     ]
    }
   ],
   "source": [
    "!cat ./configs/presets/fire.yml"
   ]
  },
  {
   "cell_type": "code",
   "execution_count": 11,
   "id": "e773c3f8-8339-4db7-a286-6992c32a289e",
   "metadata": {},
   "outputs": [
    {
     "name": "stdout",
     "output_type": "stream",
     "text": [
      "{'default': {'config_int': 1,\n",
      "             'config_string': 'fire',\n",
      "             'config_list': [1, 2, 3],\n",
      "             'config_none': 'None',\n",
      "             'config_dict': {'sub_config': 'fire'}}}\n"
     ]
    }
   ],
   "source": [
    "# set the fire preset\n",
    "pprint(config_reader.read(presets=(\"fire.yml\",)), sort_dicts=False)"
   ]
  },
  {
   "cell_type": "code",
   "execution_count": 12,
   "id": "53e22d5f-f08d-4f93-811f-024dc797b4c7",
   "metadata": {},
   "outputs": [
    {
     "name": "stdout",
     "output_type": "stream",
     "text": [
      "default:\n",
      "    config_string: water\n",
      "    config_dict:\n",
      "        sub_config: water"
     ]
    }
   ],
   "source": [
    "!cat ./configs/presets/water.yml || echo"
   ]
  },
  {
   "cell_type": "code",
   "execution_count": 13,
   "id": "6dc0949f-c812-47b1-a6df-cfc42ca192f4",
   "metadata": {},
   "outputs": [
    {
     "name": "stdout",
     "output_type": "stream",
     "text": [
      "{'default': {'config_int': 1,\n",
      "             'config_string': 'water',\n",
      "             'config_list': [1, 2, 3],\n",
      "             'config_none': 'None',\n",
      "             'config_dict': {'sub_config': 'water'}}}\n"
     ]
    }
   ],
   "source": [
    "# set the water preset\n",
    "pprint(config_reader.read(presets=(\"water.yml\",)), sort_dicts=False)"
   ]
  },
  {
   "cell_type": "markdown",
   "id": "8228fc46-692d-4b4a-9f2b-8ce094f09c95",
   "metadata": {},
   "source": [
    "### **User config and command line interface** settings **override presets** settings."
   ]
  },
  {
   "cell_type": "code",
   "execution_count": 14,
   "id": "4bd6ca95-2950-4e17-b3dc-97b28222dda8",
   "metadata": {},
   "outputs": [
    {
     "name": "stdout",
     "output_type": "stream",
     "text": [
      "{'default': {'config_int': 1,\n",
      "             'config_string': 'water',\n",
      "             'config_list': [1, 2, 3],\n",
      "             'config_none': 'None',\n",
      "             'config_dict': {'sub_config': 'fire'}}}\n"
     ]
    }
   ],
   "source": [
    "user_config = {\"myconfig\": {\"default\": {\"config_string\": \"water\"}}}\n",
    "# set the fire preset\n",
    "pprint(\n",
    "    config_reader.read(user_config=user_config, presets=(\"fire.yml\",)), sort_dicts=False\n",
    ")"
   ]
  },
  {
   "cell_type": "code",
   "execution_count": null,
   "id": "066ee30b-eba4-4712-a1d2-0a8ef7891d54",
   "metadata": {},
   "outputs": [],
   "source": []
  }
 ],
 "metadata": {
  "kernelspec": {
   "display_name": "Python 3",
   "language": "python",
   "name": "python3"
  },
  "language_info": {
   "codemirror_mode": {
    "name": "ipython",
    "version": 3
   },
   "file_extension": ".py",
   "mimetype": "text/x-python",
   "name": "python",
   "nbconvert_exporter": "python",
   "pygments_lexer": "ipython3",
   "version": "3.8.5"
  }
 },
 "nbformat": 4,
 "nbformat_minor": 5
}
